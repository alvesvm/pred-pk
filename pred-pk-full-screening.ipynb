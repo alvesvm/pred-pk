{
 "cells": [
  {
   "cell_type": "markdown",
   "metadata": {},
   "source": [
    "# Virtual Screening"
   ]
  },
  {
   "cell_type": "markdown",
   "metadata": {},
   "source": [
    "## Importing modules and functions        \n",
    "    "
   ]
  },
  {
   "cell_type": "code",
   "execution_count": 1,
   "metadata": {},
   "outputs": [
    {
     "data": {
      "text/html": [
       "<style>.container { width:90% !important; }</style>"
      ],
      "text/plain": [
       "<IPython.core.display.HTML object>"
      ]
     },
     "metadata": {},
     "output_type": "display_data"
    }
   ],
   "source": [
    "import bz2\n",
    "import glob\n",
    "import gzip\n",
    "import matplotlib.pyplot as plt\n",
    "import numpy as np\n",
    "import pandas as pd\n",
    "import re\n",
    "import seaborn as sns\n",
    "import _pickle as cPickle\n",
    "import sys\n",
    "\n",
    "sys.path.append('../')\n",
    "\n",
    "from cheminformatics import calc_dist_matrix, calc_D_cutoff, calc_test_distances, binary_stats\n",
    "from collections import Counter\n",
    "\n",
    "from rdkit import Chem\n",
    "from rdkit.Chem import AllChem\n",
    "from rdkit.Chem import Draw\n",
    "from rdkit.Chem import PandasTools\n",
    "from rdkit.Chem.Draw import IPythonConsole\n",
    "\n",
    "from sklearn import metrics\n",
    "\n",
    "def warn(*args, **kwargs):\n",
    "    pass\n",
    "import warnings\n",
    "warnings.filterwarnings(\"ignore\")\n",
    "warnings.warn = warn\n",
    "\n",
    "from IPython.core.interactiveshell import InteractiveShell\n",
    "InteractiveShell.ast_node_interactivity = \"all\"\n",
    "%matplotlib inline\n",
    "%reload_ext autoreload\n",
    "%autoreload 2\n",
    "Draw.DrawingOptions.atomLabelFontFace = \"DejaVu Sans\"\n",
    "Draw.DrawingOptions.atomLabelFontSize = 18\n",
    "\n",
    "from IPython.core.display import display, HTML\n",
    "display(HTML(\"<style>.container { width:90% !important; }</style>\"))"
   ]
  },
  {
   "cell_type": "markdown",
   "metadata": {},
   "source": [
    "## Path for files"
   ]
  },
  {
   "cell_type": "code",
   "execution_count": 2,
   "metadata": {},
   "outputs": [
    {
     "name": "stdout",
     "output_type": "stream",
     "text": [
      "dispiro\n"
     ]
    }
   ],
   "source": [
    "# Give name to prediction set\n",
    "prediction_set = input()"
   ]
  },
  {
   "cell_type": "code",
   "execution_count": 3,
   "metadata": {},
   "outputs": [],
   "source": [
    "# SDF file to screen\n",
    "sdf_file = 'datasets/dispiro.sdf'\n",
    "\n",
    "# Models\n",
    "models = [f for f in glob.glob(\"models/*.pgz\")]\n",
    "models_data = [f for f in glob.glob(\"models/*.pbz2\")]\n",
    "\n",
    "# Export predictions\n",
    "export_predictions= f'vs/{prediction_set}.xlsx'"
   ]
  },
  {
   "cell_type": "code",
   "execution_count": 4,
   "metadata": {},
   "outputs": [
    {
     "data": {
      "text/plain": [
       "['models\\\\dataset-01B-hepatic-stability-15-min-binary-balanced-morgan_RF.pgz',\n",
       " 'models\\\\dataset-01D-hepatic-stability-60-min-binary-balanced-morgan_RF.pgz',\n",
       " 'models\\\\dataset-02A-microsomal-half-life-subcellular-30-min-binary-unbalanced-morgan_RF.pgz',\n",
       " 'models\\\\dataset-02B-microsomal-half-life-30-min-binary-unbalanced-morgan_RF.pgz',\n",
       " 'models\\\\dataset-03-renal-clearance-binary-unbalanced-0.5-threshold-morgan_RF.pgz',\n",
       " 'models\\\\dataset-04B-BBB-binary-balanced-morgan_RF.pgz',\n",
       " 'models\\\\dataset-04B-BBB-binary-unbalanced-morgan_RF.pgz',\n",
       " 'models\\\\dataset-04C-CNS-binary-unbalanced-morgan_RF.pgz',\n",
       " 'models\\\\dataset-05A-CACO2-binary-unbalanced-morgan_RF.pgz',\n",
       " 'models\\\\dataset-06-plasma-protein-binding-binary-unbalanced-morgan_RF.pgz',\n",
       " 'models\\\\dataset-09-microsomal-clearance-binary-unbalanced-morgan_RF.pgz']"
      ]
     },
     "execution_count": 4,
     "metadata": {},
     "output_type": "execute_result"
    }
   ],
   "source": [
    "models"
   ]
  },
  {
   "cell_type": "markdown",
   "metadata": {},
   "source": [
    "## Import screening data"
   ]
  },
  {
   "cell_type": "code",
   "execution_count": 5,
   "metadata": {
    "scrolled": false
   },
   "outputs": [
    {
     "name": "stdout",
     "output_type": "stream",
     "text": [
      "Original data:  (1, 3)\n",
      "Kept data:  (1, 2)\n"
     ]
    },
    {
     "data": {
      "text/html": [
       "<div>\n",
       "<style scoped>\n",
       "    .dataframe tbody tr th:only-of-type {\n",
       "        vertical-align: middle;\n",
       "    }\n",
       "\n",
       "    .dataframe tbody tr th {\n",
       "        vertical-align: top;\n",
       "    }\n",
       "\n",
       "    .dataframe thead th {\n",
       "        text-align: right;\n",
       "    }\n",
       "</style>\n",
       "<table border=\"1\" class=\"dataframe\">\n",
       "  <thead>\n",
       "    <tr style=\"text-align: right;\">\n",
       "      <th></th>\n",
       "      <th>SMILES</th>\n",
       "      <th>Mol</th>\n",
       "    </tr>\n",
       "  </thead>\n",
       "  <tbody>\n",
       "    <tr>\n",
       "      <th>0</th>\n",
       "      <td>Cc1nc(N2CC[N+]3(CC2)CC[N+]2(CCNCC2)CC3)c([N+](...</td>\n",
       "      <td><img data-content=\"rdkit/molecule\" src=\"data:image/png;base64,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\" alt=\"Mol\"/></td>\n",
       "    </tr>\n",
       "  </tbody>\n",
       "</table>\n",
       "</div>"
      ],
      "text/plain": [
       "                                              SMILES  \\\n",
       "0  Cc1nc(N2CC[N+]3(CC2)CC[N+]2(CCNCC2)CC3)c([N+](...   \n",
       "\n",
       "                                                 Mol  \n",
       "0  <img data-content=\"rdkit/molecule\" src=\"data:i...  "
      ]
     },
     "execution_count": 5,
     "metadata": {},
     "output_type": "execute_result"
    },
    {
     "name": "stdout",
     "output_type": "stream",
     "text": [
      "\n",
      " Problematic structures: \n",
      " []\n"
     ]
    }
   ],
   "source": [
    "# Read SDF\n",
    "moldf = PandasTools.LoadSDF(sdf_file, molColName='Mol', smilesName='SMILES');\n",
    "print('Original data: ', moldf.shape)\n",
    "\n",
    "# Remove missing RDKit molecules\n",
    "moldf = moldf[pd.notnull(moldf['Mol'])]\n",
    "if 'StandardizerResult' in moldf.columns:\n",
    "    moldf = moldf.drop(columns='StandardizerResult')\n",
    "\n",
    "moldf.drop(columns='ID', inplace=True)\n",
    "# Columns\n",
    "print('Kept data: ', moldf.shape)\n",
    "moldf.head(1)\n",
    "from molvs.validate import Validator\n",
    "fmt = '%(asctime)s - %(levelname)s - %(validation)s - %(message)s'\n",
    "validator = Validator(log_format=fmt)\n",
    "print('\\n Problematic structures: \\n', validator.validate(moldf))"
   ]
  },
  {
   "cell_type": "markdown",
   "metadata": {},
   "source": [
    "### Calculate Morgan Fingerprints"
   ]
  },
  {
   "cell_type": "code",
   "execution_count": 6,
   "metadata": {},
   "outputs": [
    {
     "data": {
      "text/plain": [
       "(1, 2048)"
      ]
     },
     "execution_count": 6,
     "metadata": {},
     "output_type": "execute_result"
    }
   ],
   "source": [
    "def calcfp(mol,funcFPInfo=dict(radius=3, nBits=2048, useFeatures=False, useChirality=False)):\n",
    "    fp = AllChem.GetMorganFingerprintAsBitVect(mol, **funcFPInfo)\n",
    "    fp = pd.Series(np.asarray(fp))\n",
    "    fp = fp.add_prefix('Bit_')\n",
    "    return fp\n",
    "\n",
    "X_vs = moldf.Mol.apply(calcfp)\n",
    "X_vs.shape"
   ]
  },
  {
   "cell_type": "markdown",
   "metadata": {},
   "source": [
    "# Virtual screening Morgan"
   ]
  },
  {
   "cell_type": "markdown",
   "metadata": {},
   "source": [
    "##### Load the model and model parameters"
   ]
  },
  {
   "cell_type": "code",
   "execution_count": 7,
   "metadata": {},
   "outputs": [],
   "source": [
    "predictions = pd.DataFrame()\n",
    "for model_endpoint, model_data in zip(models, models_data):\n",
    "    with gzip.open(model_endpoint, 'rb') as f:\n",
    "        model = cPickle.load(f)\n",
    "        \n",
    "    with bz2.BZ2File(model_data, 'rb') as f:\n",
    "        model_data = cPickle.load(f)  \n",
    "    \n",
    "    X_train = model_data['Descriptors']\n",
    "    D_cutoff = model_data['D_cutoff']\n",
    "    del model_data\n",
    "\n",
    "    ##### Predict molecules\n",
    "    \n",
    "    conf_threshold = 0.6\n",
    "    \n",
    "    #### Make predictions\n",
    "    y_pred = model.predict(X_vs)\n",
    "    pred_prob = model.predict_proba(X_vs)\n",
    "    pred_prob = np.amax(pred_prob, axis=1).round(2)\n",
    "    \n",
    "    #### Estimate AD\n",
    "    pred_dist = calc_test_distances(X_vs, X_train)\n",
    "    pred_ad = []\n",
    "    for i in np.arange(0, len(pred_dist), 1):\n",
    "        if pred_dist[i] < D_cutoff:\n",
    "            pred_ad.append('Inside')\n",
    "        else:\n",
    "            pred_ad.append('Outside')\n",
    "    \n",
    "    #### Prepare data\n",
    "    pred = pd.DataFrame({'Prediction': y_pred, 'Confidence': pred_prob, 'AD': pred_ad})\n",
    "    # AD\n",
    "    pred.AD[pred.AD == 'Outside'] = np.nan\n",
    "    pred.AD[pred.AD == 'Inside'] = pred.Prediction\n",
    "    pred.sort_index(inplace=True)\n",
    "    pred_ad = pred.dropna().astype(int)\n",
    "    coverage_pred = len(pred_ad) / len(pred) * 100\n",
    "    \n",
    "    model_endpoint = re.sub('models\\\\\\dataset-\\d\\d\\w*-|-binary-\\w*balanced-morgan_RF.pgz', '', model_endpoint)\n",
    "    model_endpoint = re.sub('-', ' ', model_endpoint)\n",
    "    pred = pred.assign(model=f'{model_endpoint}')\n",
    "    \n",
    "    mol_pred = pd.concat([moldf, pred], axis=1)  \n",
    "    predictions = predictions.append(mol_pred)"
   ]
  },
  {
   "cell_type": "markdown",
   "metadata": {},
   "source": [
    "## Export SDF and Excel"
   ]
  },
  {
   "cell_type": "code",
   "execution_count": 8,
   "metadata": {},
   "outputs": [],
   "source": [
    "with pd.ExcelWriter(export_predictions) as writer:\n",
    "    predictions.drop(columns='Mol').to_excel(writer, sheet_name='pred-pk', index=False)"
   ]
  }
 ],
 "metadata": {
  "kernelspec": {
   "display_name": "Python 3 (RDKit)",
   "language": "python",
   "name": "my-rdkit-env"
  },
  "language_info": {
   "codemirror_mode": {
    "name": "ipython",
    "version": 3
   },
   "file_extension": ".py",
   "mimetype": "text/x-python",
   "name": "python",
   "nbconvert_exporter": "python",
   "pygments_lexer": "ipython3",
   "version": "3.9.4"
  }
 },
 "nbformat": 4,
 "nbformat_minor": 2
}
